{
 "cells": [
  {
   "cell_type": "code",
   "execution_count": 4,
   "metadata": {
    "collapsed": true
   },
   "outputs": [],
   "source": [
    "import pandas as pd\n",
    "import numpy as np \n",
    "import matplotlib \n",
    "import matplotlib.pyplot as plt\n",
    "\n",
    "%matplotlib inline\n",
    "%matplotlib notebook"
   ]
  },
  {
   "cell_type": "code",
   "execution_count": 5,
   "metadata": {
    "collapsed": false
   },
   "outputs": [],
   "source": [
    "#define your own path for \"date-borough-code-cleaned.csv\"\n",
    "df = pd.read_csv(\"date-borough-code-cleaned.csv\")\n",
    "by_date = df.groupby('KY_CD')\n",
    "#to get the freq of each crime on date: \n",
    "count_status = by_date['CMPLNT_FR_DT'].value_counts()\n",
    "#count_status"
   ]
  },
  {
   "cell_type": "code",
   "execution_count": 6,
   "metadata": {
    "collapsed": false
   },
   "outputs": [
    {
     "name": "stdout",
     "output_type": "stream",
     "text": [
      "KY_CD  KY_CD  CMPLNT_FR_DT\n",
      "101    101    2007-10-06        9\n",
      "102    102    2008-11-16        2\n",
      "103    103    2013-09-11        2\n",
      "104    104    2006-01-01       48\n",
      "105    105    2007-12-21      110\n",
      "106    106    2011-01-01      132\n",
      "107    107    2009-11-25      108\n",
      "109    109    2006-12-01      250\n",
      "110    110    2006-03-25       66\n",
      "111    111    2007-06-29       25\n",
      "112    112    2007-01-01      161\n",
      "113    113    2006-05-24       38\n",
      "114    114    2012-01-01       17\n",
      "115    115    2007-08-30        2\n",
      "116    116    2006-01-01       71\n",
      "117    117    2006-10-12       58\n",
      "118    118    2009-01-22       39\n",
      "119    119    2011-07-05        2\n",
      "120    120    2006-06-02        2\n",
      "121    121    2009-01-01       59\n",
      "122    122    2006-03-22        2\n",
      "123    123    2007-01-07        1\n",
      "124    124    2007-07-30        7\n",
      "125    125    2010-03-03        8\n",
      "126    126    2014-06-19       57\n",
      "230    230    2012-09-22        5\n",
      "231    231    2014-11-28        8\n",
      "232    232    2011-12-15       61\n",
      "233    233    2006-01-01       86\n",
      "234    234    2007-08-11        2\n",
      "                             ... \n",
      "350    350    2015-08-08        8\n",
      "351    351    2015-01-01      475\n",
      "352    352    2007-02-07       62\n",
      "353    353    2015-06-26       13\n",
      "354    354    2006-05-26        2\n",
      "355    355    2006-07-04       31\n",
      "356    356    2014-10-17       16\n",
      "357    357    2010-05-07        2\n",
      "358    358    2009-07-07       30\n",
      "359    359    2013-03-13       65\n",
      "360    360    2009-05-15       17\n",
      "361    361    2007-01-01      205\n",
      "362    362    2008-08-19        1\n",
      "363    363    2013-07-04       30\n",
      "364    364    2010-09-15       13\n",
      "365    365    2014-11-10       12\n",
      "366    366    2015-07-01        4\n",
      "455    455    2009-04-22        2\n",
      "460    460    2009-03-14        3\n",
      "571    571    2007-08-03        3\n",
      "572    572    2010-05-21        6\n",
      "577    577    2009-03-28        1\n",
      "578    578    2006-06-01      270\n",
      "672    672    2006-12-22        1\n",
      "675    675    2011-09-11        8\n",
      "676    676    2006-01-27        1\n",
      "677    677    2006-06-01        5\n",
      "678    678    2006-07-04       18\n",
      "685    685    2006-02-16        1\n",
      "881    881    2007-01-26        1\n",
      "Name: CMPLNT_FR_DT, dtype: int64\n"
     ]
    }
   ],
   "source": [
    "#Get the Top Frequency of Each Offense for a particular date. E.g most number of 101s were committed October 6, 2007\n",
    "top = count_status.groupby(level=0).nlargest(1)\n",
    "print (top)"
   ]
  },
  {
   "cell_type": "code",
   "execution_count": 7,
   "metadata": {
    "collapsed": false
   },
   "outputs": [
    {
     "name": "stdout",
     "output_type": "stream",
     "text": [
      "KY_CD\n",
      "101      4443\n",
      "102        93\n",
      "103        33\n",
      "104     12984\n",
      "105    198591\n",
      "106    183942\n",
      "107    191055\n",
      "109    424818\n",
      "110    101711\n",
      "111      9081\n",
      "112     53912\n",
      "113     48974\n",
      "114     13914\n",
      "115       121\n",
      "116      9856\n",
      "117     62628\n",
      "118     50536\n",
      "119        48\n",
      "120       387\n",
      "121     72290\n",
      "122       122\n",
      "123         4\n",
      "124      2295\n",
      "125      3752\n",
      "126    112008\n",
      "230       300\n",
      "231      2476\n",
      "232     20349\n",
      "233     43364\n",
      "234       111\n",
      "        ...  \n",
      "350      1902\n",
      "351    432634\n",
      "352     66504\n",
      "353     13756\n",
      "354        95\n",
      "355     12326\n",
      "356       618\n",
      "357        11\n",
      "358     17702\n",
      "359    100072\n",
      "360     16033\n",
      "361    281619\n",
      "362         3\n",
      "363       809\n",
      "364      5978\n",
      "365      9918\n",
      "366        45\n",
      "455        59\n",
      "460        16\n",
      "571       207\n",
      "572       828\n",
      "577         3\n",
      "578    602812\n",
      "672        20\n",
      "675      1448\n",
      "676        31\n",
      "677       238\n",
      "678      8464\n",
      "685        18\n",
      "881        13\n",
      "dtype: int64\n",
      "KY_CD\n",
      "362     3\n",
      "577     3\n",
      "123     4\n",
      "357    11\n",
      "881    13\n",
      "460    16\n",
      "685    18\n",
      "672    20\n",
      "676    31\n",
      "103    33\n",
      "dtype: int64\n"
     ]
    }
   ],
   "source": [
    "number_of_offenses = by_date.size()\n",
    "print(number_of_offenses)\n",
    "number_of_offenses.to_csv('totalnumber-of-offenses.csv')\n",
    "number_of_offenses.nlargest(10)\n",
    "print(number_of_offenses.nsmallest(10))"
   ]
  },
  {
   "cell_type": "code",
   "execution_count": 10,
   "metadata": {
    "collapsed": false
   },
   "outputs": [
    {
     "name": "stdout",
     "output_type": "stream",
     "text": [
      "KY_CD\n",
      "101      1151\n",
      "102        14\n",
      "103         7\n",
      "104      2854\n",
      "105     45260\n",
      "106     47772\n",
      "107     33589\n",
      "109     53898\n",
      "110     22057\n",
      "111      1494\n",
      "112      9059\n",
      "113      8196\n",
      "114      3812\n",
      "115        25\n",
      "116      1990\n",
      "117     21528\n",
      "118     11512\n",
      "119         9\n",
      "120       121\n",
      "121      8518\n",
      "122        33\n",
      "124       570\n",
      "125      1044\n",
      "126     18521\n",
      "230        21\n",
      "231       240\n",
      "232      3905\n",
      "233      7838\n",
      "234        22\n",
      "235    111027\n",
      "        ...  \n",
      "349         4\n",
      "350       587\n",
      "351     94592\n",
      "352     22752\n",
      "353      2222\n",
      "354        20\n",
      "355      3493\n",
      "356       304\n",
      "357         1\n",
      "358      3352\n",
      "359     29975\n",
      "360      3253\n",
      "361     61789\n",
      "362         1\n",
      "363       234\n",
      "364      3029\n",
      "365      1953\n",
      "366         7\n",
      "455        16\n",
      "460         3\n",
      "571        12\n",
      "572       224\n",
      "578    129259\n",
      "672         2\n",
      "675       222\n",
      "676         1\n",
      "677        23\n",
      "678      1680\n",
      "685         1\n",
      "881         1\n",
      "dtype: int64\n"
     ]
    }
   ],
   "source": [
    "#number of each offense committed in BRONX\n",
    "df_borough_bronx = df[df['BORO_NM'] == 'BRONX']\n",
    "#print (df_borough)\n",
    "#frequency of each offense given by its code in BRONX\n",
    "offenses_in_bronx=df_borough_bronx.groupby('KY_CD').size()\n",
    "print(offenses_in_bronx)"
   ]
  },
  {
   "cell_type": "code",
   "execution_count": 11,
   "metadata": {
    "collapsed": false
   },
   "outputs": [
    {
     "data": {
      "text/plain": [
       "KY_CD\n",
       "341    138129\n",
       "578    129259\n",
       "344    126226\n",
       "235    111027\n",
       "351     94592\n",
       "361     61789\n",
       "109     53898\n",
       "106     47772\n",
       "105     45260\n",
       "107     33589\n",
       "dtype: int64"
      ]
     },
     "execution_count": 11,
     "metadata": {},
     "output_type": "execute_result"
    }
   ],
   "source": [
    "#Top 10 offenses in BRONX\n",
    "offenses_in_bronx.nlargest(10)\n"
   ]
  },
  {
   "cell_type": "code",
   "execution_count": 13,
   "metadata": {
    "collapsed": false
   },
   "outputs": [
    {
     "data": {
      "text/plain": [
       "KY_CD\n",
       "357    1\n",
       "362    1\n",
       "676    1\n",
       "685    1\n",
       "881    1\n",
       "672    2\n",
       "460    3\n",
       "349    4\n",
       "103    7\n",
       "366    7\n",
       "dtype: int64"
      ]
     },
     "execution_count": 13,
     "metadata": {},
     "output_type": "execute_result"
    }
   ],
   "source": [
    "# 10 Offenses that seldom occur in Bronx. Given they occured between 0-9 times in the 10 year period\n",
    "offenses_in_bronx.nsmallest(10)"
   ]
  },
  {
   "cell_type": "code",
   "execution_count": 14,
   "metadata": {
    "collapsed": false
   },
   "outputs": [
    {
     "name": "stdout",
     "output_type": "stream",
     "text": [
      "        CMPLNT_FR_DT  KY_CD   BORO_NM\n",
      "5         2015-12-31    106  BROOKLYN\n",
      "14        2015-12-31    113  BROOKLYN\n",
      "18        2015-12-31    344  BROOKLYN\n",
      "20        2015-12-31    235  BROOKLYN\n",
      "23        2015-12-31    106  BROOKLYN\n",
      "24        2015-12-31    118  BROOKLYN\n",
      "25        2015-12-31    344  BROOKLYN\n",
      "26        2015-12-31    344  BROOKLYN\n",
      "27        2015-12-31    118  BROOKLYN\n",
      "28        2015-12-31    235  BROOKLYN\n",
      "40        2015-12-31    105  BROOKLYN\n",
      "43        2015-12-31    344  BROOKLYN\n",
      "44        2015-12-31    105  BROOKLYN\n",
      "45        2015-12-31    235  BROOKLYN\n",
      "48        2015-12-31    106  BROOKLYN\n",
      "52        2015-12-31    578  BROOKLYN\n",
      "55        2015-12-31    348  BROOKLYN\n",
      "57        2015-12-31    344  BROOKLYN\n",
      "59        2015-12-31    126  BROOKLYN\n",
      "61        2015-12-31    118  BROOKLYN\n",
      "62        2015-12-31    117  BROOKLYN\n",
      "66        2015-12-31    235  BROOKLYN\n",
      "67        2015-12-31    344  BROOKLYN\n",
      "68        2015-12-31    113  BROOKLYN\n",
      "70        2015-12-31    118  BROOKLYN\n",
      "76        2015-12-31    113  BROOKLYN\n",
      "77        2015-12-31    126  BROOKLYN\n",
      "79        2015-12-31    344  BROOKLYN\n",
      "86        2015-12-31    106  BROOKLYN\n",
      "87        2015-12-31    344  BROOKLYN\n",
      "...              ...    ...       ...\n",
      "5081289   2006-01-01    233  BROOKLYN\n",
      "5081290   2006-01-01    126  BROOKLYN\n",
      "5081291   2006-01-01    118  BROOKLYN\n",
      "5081293   2006-01-01    351  BROOKLYN\n",
      "5081296   2006-01-01    118  BROOKLYN\n",
      "5081298   2006-01-01    126  BROOKLYN\n",
      "5081299   2006-01-01    351  BROOKLYN\n",
      "5081303   2006-01-01    351  BROOKLYN\n",
      "5081304   2006-01-01    341  BROOKLYN\n",
      "5081307   2006-01-01    341  BROOKLYN\n",
      "5081308   2006-01-01    106  BROOKLYN\n",
      "5081310   2006-01-01    118  BROOKLYN\n",
      "5081312   2006-01-01    235  BROOKLYN\n",
      "5081316   2006-01-01    235  BROOKLYN\n",
      "5081317   2006-01-01    344  BROOKLYN\n",
      "5081327   2006-01-01    578  BROOKLYN\n",
      "5081328   2006-01-01    118  BROOKLYN\n",
      "5081332   2006-01-01    121  BROOKLYN\n",
      "5081335   2006-01-01    126  BROOKLYN\n",
      "5081336   2006-01-01    126  BROOKLYN\n",
      "5081339   2006-01-01    344  BROOKLYN\n",
      "5081351   2006-01-01    351  BROOKLYN\n",
      "5081352   2006-01-01    351  BROOKLYN\n",
      "5081353   2006-01-01    126  BROOKLYN\n",
      "5081356   2006-01-01    344  BROOKLYN\n",
      "5081357   2006-01-01    351  BROOKLYN\n",
      "5081361   2006-01-01    351  BROOKLYN\n",
      "5081362   2006-01-01    351  BROOKLYN\n",
      "5081364   2006-01-01    233  BROOKLYN\n",
      "5081366   2006-01-01    351  BROOKLYN\n",
      "\n",
      "[1519980 rows x 3 columns]\n"
     ]
    }
   ],
   "source": [
    "#Analyzing Brooklyn\n",
    "df_borough_brooklyn = df[df['BORO_NM'] == 'BROOKLYN']\n",
    "print df_borough_brooklyn"
   ]
  },
  {
   "cell_type": "code",
   "execution_count": 15,
   "metadata": {
    "collapsed": false
   },
   "outputs": [
    {
     "name": "stdout",
     "output_type": "stream",
     "text": [
      "KY_CD\n",
      "101      1787\n",
      "102        27\n",
      "103        12\n",
      "104      3851\n",
      "105     69611\n",
      "106     62418\n",
      "107     65844\n",
      "109    112990\n",
      "110     33080\n",
      "111      2674\n",
      "112     15117\n",
      "113     13156\n",
      "114      4858\n",
      "115        40\n",
      "116      3229\n",
      "117     15553\n",
      "118     17135\n",
      "119        13\n",
      "120       115\n",
      "121     24773\n",
      "122        44\n",
      "124       823\n",
      "125      1291\n",
      "126     44032\n",
      "230        48\n",
      "231       756\n",
      "232      5861\n",
      "233     13993\n",
      "234        40\n",
      "235     89452\n",
      "        ...  \n",
      "346       121\n",
      "347     22807\n",
      "348     15340\n",
      "349        20\n",
      "350       485\n",
      "351    132682\n",
      "352     10530\n",
      "353      4174\n",
      "354        31\n",
      "355      3252\n",
      "356       137\n",
      "358      2025\n",
      "359     23654\n",
      "360      3496\n",
      "361     83927\n",
      "363       164\n",
      "364       890\n",
      "365      3706\n",
      "366         8\n",
      "455        13\n",
      "571       101\n",
      "572       284\n",
      "578    181761\n",
      "672         5\n",
      "675       309\n",
      "676         7\n",
      "677        56\n",
      "678      2599\n",
      "685         4\n",
      "881         5\n",
      "dtype: int64\n"
     ]
    }
   ],
   "source": [
    "#Kind of Offenses that Frequently Occur in Brooklyn\n",
    "offense_in_brooklyn = df_borough_brooklyn.groupby('KY_CD').size()\n",
    "print offense_in_brooklyn"
   ]
  },
  {
   "cell_type": "code",
   "execution_count": 16,
   "metadata": {
    "collapsed": false
   },
   "outputs": [
    {
     "name": "stdout",
     "output_type": "stream",
     "text": [
      "KY_CD\n",
      "341    227214\n",
      "578    181761\n",
      "344    167716\n",
      "351    132682\n",
      "109    112990\n",
      "235     89452\n",
      "361     83927\n",
      "105     69611\n",
      "107     65844\n",
      "106     62418\n",
      "dtype: int64\n"
     ]
    }
   ],
   "source": [
    "#Top 10 Offenses to have occurred in Brooklyn from 2006-01-01 to 2015-12-31\n",
    "print offense_in_brooklyn.nlargest(10)"
   ]
  },
  {
   "cell_type": "code",
   "execution_count": 17,
   "metadata": {
    "collapsed": false
   },
   "outputs": [
    {
     "name": "stdout",
     "output_type": "stream",
     "text": [
      "KY_CD\n",
      "341    227214\n",
      "578    181761\n",
      "344    167716\n",
      "351    132682\n",
      "109    112990\n",
      "235     89452\n",
      "361     83927\n",
      "105     69611\n",
      "107     65844\n",
      "106     62418\n",
      "126     44032\n",
      "110     33080\n",
      "121     24773\n",
      "359     23654\n",
      "347     22807\n",
      "236     17597\n",
      "118     17135\n",
      "117     15553\n",
      "348     15340\n",
      "112     15117\n",
      "233     13993\n",
      "113     13156\n",
      "352     10530\n",
      "340      8630\n",
      "232      5861\n",
      "114      4858\n",
      "353      4174\n",
      "104      3851\n",
      "365      3706\n",
      "360      3496\n",
      "355      3252\n",
      "116      3229\n",
      "343      2756\n",
      "111      2674\n",
      "678      2599\n",
      "358      2025\n",
      "101      1787\n",
      "125      1291\n",
      "364       890\n",
      "124       823\n",
      "dtype: int64\n"
     ]
    }
   ],
   "source": [
    "#Brooklyn has seen a lot of crimes so lets expand to top 40\n",
    "print offense_in_brooklyn.nlargest(40)"
   ]
  },
  {
   "cell_type": "code",
   "execution_count": 18,
   "metadata": {
    "collapsed": false
   },
   "outputs": [
    {
     "data": {
      "text/plain": [
       "KY_CD\n",
       "685     4\n",
       "672     5\n",
       "881     5\n",
       "676     7\n",
       "366     8\n",
       "103    12\n",
       "119    13\n",
       "455    13\n",
       "349    20\n",
       "102    27\n",
       "dtype: int64"
      ]
     },
     "execution_count": 18,
     "metadata": {},
     "output_type": "execute_result"
    }
   ],
   "source": [
    "#Brooklyn had the lowest occurrence of these crimes. \n",
    "offense_in_brooklyn.nsmallest(10)"
   ]
  },
  {
   "cell_type": "code",
   "execution_count": 19,
   "metadata": {
    "collapsed": false
   },
   "outputs": [
    {
     "name": "stdout",
     "output_type": "stream",
     "text": [
      "        CMPLNT_FR_DT  KY_CD    BORO_NM\n",
      "2         2015-12-31    117  MANHATTAN\n",
      "4         2015-12-31    344  MANHATTAN\n",
      "6         2015-12-31    235  MANHATTAN\n",
      "9         2015-12-31    341  MANHATTAN\n",
      "11        2015-12-31    341  MANHATTAN\n",
      "12        2015-12-31    109  MANHATTAN\n",
      "13        2015-12-31    109  MANHATTAN\n",
      "16        2015-12-31    109  MANHATTAN\n",
      "31        2015-12-31    235  MANHATTAN\n",
      "32        2015-12-31    578  MANHATTAN\n",
      "34        2015-12-31    106  MANHATTAN\n",
      "39        2015-12-31    351  MANHATTAN\n",
      "42        2015-12-31    351  MANHATTAN\n",
      "49        2015-12-31    344  MANHATTAN\n",
      "54        2015-12-31    344  MANHATTAN\n",
      "60        2015-12-31    678  MANHATTAN\n",
      "63        2015-12-31    344  MANHATTAN\n",
      "89        2015-12-31    340  MANHATTAN\n",
      "99        2015-12-31    578  MANHATTAN\n",
      "100       2015-12-31    344  MANHATTAN\n",
      "104       2015-12-31    341  MANHATTAN\n",
      "112       2015-12-31    341  MANHATTAN\n",
      "117       2015-12-31    341  MANHATTAN\n",
      "125       2015-12-31    344  MANHATTAN\n",
      "142       2015-12-31    578  MANHATTAN\n",
      "143       2015-12-31    578  MANHATTAN\n",
      "145       2015-12-31    351  MANHATTAN\n",
      "157       2015-12-31    235  MANHATTAN\n",
      "159       2015-12-31    341  MANHATTAN\n",
      "167       2015-12-31    578  MANHATTAN\n",
      "...              ...    ...        ...\n",
      "5081247   2006-01-01    107  MANHATTAN\n",
      "5081256   2006-01-01    341  MANHATTAN\n",
      "5081257   2006-01-01    109  MANHATTAN\n",
      "5081258   2006-01-01    109  MANHATTAN\n",
      "5081259   2006-01-01    344  MANHATTAN\n",
      "5081260   2006-01-01    126  MANHATTAN\n",
      "5081261   2006-01-01    341  MANHATTAN\n",
      "5081262   2006-01-01    117  MANHATTAN\n",
      "5081263   2006-01-01    111  MANHATTAN\n",
      "5081264   2006-01-01    106  MANHATTAN\n",
      "5081269   2006-01-01    341  MANHATTAN\n",
      "5081270   2006-01-01    344  MANHATTAN\n",
      "5081275   2006-01-01    341  MANHATTAN\n",
      "5081276   2006-01-01    109  MANHATTAN\n",
      "5081280   2006-01-01    110  MANHATTAN\n",
      "5081283   2006-01-01    348  MANHATTAN\n",
      "5081284   2006-01-01    351  MANHATTAN\n",
      "5081287   2006-01-01    351  MANHATTAN\n",
      "5081294   2006-01-01    109  MANHATTAN\n",
      "5081301   2006-01-01    344  MANHATTAN\n",
      "5081306   2006-01-01    351  MANHATTAN\n",
      "5081315   2006-01-01    341  MANHATTAN\n",
      "5081323   2006-01-01    341  MANHATTAN\n",
      "5081329   2006-01-01    109  MANHATTAN\n",
      "5081330   2006-01-01    344  MANHATTAN\n",
      "5081348   2006-01-01    341  MANHATTAN\n",
      "5081349   2006-01-01    121  MANHATTAN\n",
      "5081350   2006-01-01    118  MANHATTAN\n",
      "5081355   2006-01-01    344  MANHATTAN\n",
      "5081358   2006-01-01    578  MANHATTAN\n",
      "\n",
      "[1211938 rows x 3 columns]\n"
     ]
    }
   ],
   "source": [
    "#Analyzing Manhattan\n",
    "df_borough_manhattan = df[df['BORO_NM']=='MANHATTAN']\n",
    "print df_borough_manhattan"
   ]
  },
  {
   "cell_type": "code",
   "execution_count": 20,
   "metadata": {
    "collapsed": false
   },
   "outputs": [
    {
     "name": "stdout",
     "output_type": "stream",
     "text": [
      "KY_CD\n",
      "101       588\n",
      "102        16\n",
      "103         7\n",
      "104      2804\n",
      "105     38486\n",
      "106     32996\n",
      "107     35047\n",
      "109    165951\n",
      "110     10516\n",
      "111      2946\n",
      "112     15568\n",
      "113     15418\n",
      "114      2075\n",
      "115        30\n",
      "116      2438\n",
      "117     15395\n",
      "118     10309\n",
      "119         4\n",
      "120        68\n",
      "121     12673\n",
      "122        36\n",
      "124       408\n",
      "125       715\n",
      "126     19325\n",
      "230       200\n",
      "231       890\n",
      "232      5844\n",
      "233     10304\n",
      "234        31\n",
      "235     62865\n",
      "        ...  \n",
      "349        11\n",
      "350       722\n",
      "351     77562\n",
      "352     22635\n",
      "353      1720\n",
      "354        29\n",
      "355      3001\n",
      "356       110\n",
      "357         8\n",
      "358     10771\n",
      "359     24131\n",
      "360      5518\n",
      "361     57836\n",
      "362         2\n",
      "363       205\n",
      "364      1552\n",
      "365      1051\n",
      "366        24\n",
      "455        14\n",
      "460         1\n",
      "571        76\n",
      "572       231\n",
      "577         1\n",
      "578    120741\n",
      "672         6\n",
      "675       583\n",
      "676        17\n",
      "677        89\n",
      "678      2762\n",
      "685         3\n",
      "dtype: int64\n"
     ]
    }
   ],
   "source": [
    "#Analyzing frequency of Crime Types in Manhattan\n",
    "offenses_in_Manhattan = df_borough_manhattan.groupby('KY_CD').size()\n",
    "print offenses_in_Manhattan"
   ]
  },
  {
   "cell_type": "code",
   "execution_count": 21,
   "metadata": {
    "collapsed": false
   },
   "outputs": [
    {
     "name": "stdout",
     "output_type": "stream",
     "text": [
      "KY_CD\n",
      "341    257710\n",
      "109    165951\n",
      "578    120741\n",
      "344     98963\n",
      "351     77562\n",
      "235     62865\n",
      "361     57836\n",
      "105     38486\n",
      "107     35047\n",
      "106     32996\n",
      "dtype: int64\n"
     ]
    }
   ],
   "source": [
    "#Top 10 offenses in Manhattan\n",
    "print offenses_in_Manhattan.nlargest(10)"
   ]
  },
  {
   "cell_type": "code",
   "execution_count": 22,
   "metadata": {
    "collapsed": false
   },
   "outputs": [
    {
     "name": "stdout",
     "output_type": "stream",
     "text": [
      "KY_CD\n",
      "460     1\n",
      "577     1\n",
      "362     2\n",
      "685     3\n",
      "119     4\n",
      "672     6\n",
      "103     7\n",
      "357     8\n",
      "349    11\n",
      "455    14\n",
      "dtype: int64\n"
     ]
    }
   ],
   "source": [
    "#Least 10 offenses in Manhattan\n",
    "print offenses_in_Manhattan.nsmallest(10)"
   ]
  },
  {
   "cell_type": "code",
   "execution_count": 23,
   "metadata": {
    "collapsed": false
   },
   "outputs": [
    {
     "name": "stdout",
     "output_type": "stream",
     "text": [
      "KY_CD\n",
      "101      146\n",
      "102       10\n",
      "103        2\n",
      "104      501\n",
      "105     4442\n",
      "106     5506\n",
      "107     6927\n",
      "109    11251\n",
      "110     3669\n",
      "111      191\n",
      "112     3360\n",
      "113     1201\n",
      "114      806\n",
      "115        1\n",
      "116      441\n",
      "117     2366\n",
      "118     1669\n",
      "120        8\n",
      "121     4785\n",
      "123        1\n",
      "124       70\n",
      "125      223\n",
      "126     4247\n",
      "231       65\n",
      "232      913\n",
      "233     1364\n",
      "234        1\n",
      "235     8986\n",
      "236     2773\n",
      "237        6\n",
      "       ...  \n",
      "342       29\n",
      "343      403\n",
      "344    23156\n",
      "345       30\n",
      "346       25\n",
      "347     5900\n",
      "348     1505\n",
      "350       10\n",
      "351    30467\n",
      "352     1412\n",
      "353     1237\n",
      "354        3\n",
      "355      501\n",
      "356        5\n",
      "358      271\n",
      "359     6933\n",
      "360      457\n",
      "361    19276\n",
      "363       93\n",
      "364      140\n",
      "365      474\n",
      "455        1\n",
      "571        2\n",
      "572       22\n",
      "577        1\n",
      "578    44705\n",
      "675       51\n",
      "676        1\n",
      "677       11\n",
      "678      259\n",
      "dtype: int64\n"
     ]
    }
   ],
   "source": [
    "#Analyzing Staten Island\n",
    "df_borough_statenisland = df[df['BORO_NM'] == \"STATEN ISLAND\"]\n",
    "offense_in_statenisland = df_borough_statenisland.groupby('KY_CD')\n",
    "#Frequency of Each Crime in Staten Island \n",
    "print offense_in_statenisland.size()"
   ]
  },
  {
   "cell_type": "code",
   "execution_count": 24,
   "metadata": {
    "collapsed": false
   },
   "outputs": [
    {
     "name": "stdout",
     "output_type": "stream",
     "text": [
      "KY_CD\n",
      "578    44705\n",
      "341    36903\n",
      "351    30467\n",
      "344    23156\n",
      "361    19276\n",
      "109    11251\n",
      "235     8986\n",
      "359     6933\n",
      "107     6927\n",
      "347     5900\n",
      "dtype: int64\n"
     ]
    }
   ],
   "source": [
    "# Top 10 Crimes in Staten island \n",
    "print offense_in_statenisland.size().nlargest(10)"
   ]
  },
  {
   "cell_type": "code",
   "execution_count": 25,
   "metadata": {
    "collapsed": false
   },
   "outputs": [
    {
     "name": "stdout",
     "output_type": "stream",
     "text": [
      "KY_CD\n",
      "115    1\n",
      "123    1\n",
      "234    1\n",
      "455    1\n",
      "577    1\n",
      "676    1\n",
      "103    2\n",
      "571    2\n",
      "354    3\n",
      "356    5\n",
      "dtype: int64\n"
     ]
    }
   ],
   "source": [
    "#Least 10 Crimes in Staten Island\n",
    "print offense_in_statenisland.size().nsmallest(10)"
   ]
  },
  {
   "cell_type": "code",
   "execution_count": 26,
   "metadata": {
    "collapsed": false
   },
   "outputs": [
    {
     "name": "stdout",
     "output_type": "stream",
     "text": [
      "KY_CD\n",
      "101      146\n",
      "102       10\n",
      "103        2\n",
      "104      501\n",
      "105     4442\n",
      "106     5506\n",
      "107     6927\n",
      "109    11251\n",
      "110     3669\n",
      "111      191\n",
      "112     3360\n",
      "113     1201\n",
      "114      806\n",
      "115        1\n",
      "116      441\n",
      "117     2366\n",
      "118     1669\n",
      "120        8\n",
      "121     4785\n",
      "123        1\n",
      "124       70\n",
      "125      223\n",
      "126     4247\n",
      "231       65\n",
      "232      913\n",
      "233     1364\n",
      "234        1\n",
      "235     8986\n",
      "236     2773\n",
      "237        6\n",
      "       ...  \n",
      "342       29\n",
      "343      403\n",
      "344    23156\n",
      "345       30\n",
      "346       25\n",
      "347     5900\n",
      "348     1505\n",
      "350       10\n",
      "351    30467\n",
      "352     1412\n",
      "353     1237\n",
      "354        3\n",
      "355      501\n",
      "356        5\n",
      "358      271\n",
      "359     6933\n",
      "360      457\n",
      "361    19276\n",
      "363       93\n",
      "364      140\n",
      "365      474\n",
      "455        1\n",
      "571        2\n",
      "572       22\n",
      "577        1\n",
      "578    44705\n",
      "675       51\n",
      "676        1\n",
      "677       11\n",
      "678      259\n",
      "dtype: int64\n"
     ]
    }
   ],
   "source": [
    "#Analyzing Queens\n",
    "df_borough_queens = df[df['BORO_NM'] == \"QUEENS\"]\n",
    "offense_in_queens = df_borough_statenisland.groupby('KY_CD')\n",
    "#Frequency of Each Crime in Queens\n",
    "print offense_in_queens.size()"
   ]
  },
  {
   "cell_type": "code",
   "execution_count": 27,
   "metadata": {
    "collapsed": false
   },
   "outputs": [
    {
     "name": "stdout",
     "output_type": "stream",
     "text": [
      "KY_CD\n",
      "578    44705\n",
      "341    36903\n",
      "351    30467\n",
      "344    23156\n",
      "361    19276\n",
      "109    11251\n",
      "235     8986\n",
      "359     6933\n",
      "107     6927\n",
      "347     5900\n",
      "dtype: int64\n"
     ]
    }
   ],
   "source": [
    "#Top 10 Crimes in Queens\n",
    "print offense_in_queens.size().nlargest(10)"
   ]
  },
  {
   "cell_type": "code",
   "execution_count": 28,
   "metadata": {
    "collapsed": false
   },
   "outputs": [
    {
     "name": "stdout",
     "output_type": "stream",
     "text": [
      "KY_CD\n",
      "115    1\n",
      "123    1\n",
      "234    1\n",
      "455    1\n",
      "577    1\n",
      "676    1\n",
      "103    2\n",
      "571    2\n",
      "354    3\n",
      "356    5\n",
      "dtype: int64\n"
     ]
    }
   ],
   "source": [
    "#Least 10 Crimes in Queens\n",
    "print offense_in_queens.size().nsmallest(10)"
   ]
  },
  {
   "cell_type": "code",
   "execution_count": 41,
   "metadata": {
    "collapsed": false
   },
   "outputs": [
    {
     "name": "stdout",
     "output_type": "stream",
     "text": [
      "KY_CD        \n",
      "101    count          4443\n",
      "       unique            5\n",
      "       top        BROOKLYN\n",
      "       freq           1787\n",
      "102    count            93\n",
      "       unique            5\n",
      "       top        BROOKLYN\n",
      "       freq             27\n",
      "103    count            33\n",
      "       unique            5\n",
      "       top        BROOKLYN\n",
      "       freq             12\n",
      "104    count         12984\n",
      "       unique            5\n",
      "       top        BROOKLYN\n",
      "       freq           3851\n",
      "105    count        198591\n",
      "       unique            5\n",
      "       top        BROOKLYN\n",
      "       freq          69611\n",
      "106    count        183942\n",
      "       unique            5\n",
      "       top        BROOKLYN\n",
      "       freq          62418\n",
      "107    count        191055\n",
      "       unique            5\n",
      "       top        BROOKLYN\n",
      "       freq          65844\n",
      "109    count        424818\n",
      "       unique            5\n",
      "                   ...    \n",
      "578    top        BROOKLYN\n",
      "       freq         181761\n",
      "672    count            20\n",
      "       unique            4\n",
      "       top          QUEENS\n",
      "       freq              7\n",
      "675    count          1448\n",
      "       unique            5\n",
      "       top       MANHATTAN\n",
      "       freq            583\n",
      "676    count            31\n",
      "       unique            5\n",
      "       top       MANHATTAN\n",
      "       freq             17\n",
      "677    count           238\n",
      "       unique            5\n",
      "       top       MANHATTAN\n",
      "       freq             89\n",
      "678    count          8464\n",
      "       unique            5\n",
      "       top       MANHATTAN\n",
      "       freq           2762\n",
      "685    count            18\n",
      "       unique            4\n",
      "       top          QUEENS\n",
      "       freq             10\n",
      "881    count            13\n",
      "       unique            3\n",
      "       top          QUEENS\n",
      "       freq              7\n",
      "Name: BORO_NM, dtype: object\n"
     ]
    }
   ],
   "source": [
    "#Overall analysis For Which Criminal Offense Occured the Most in Which Borough\n",
    "df2 = df.groupby('KY_CD')\n",
    "#df2['BORO_NM'].describe().to_csv(\"top-offense.csv\")\n",
    "print df2['BORO_NM'].describe()"
   ]
  },
  {
   "cell_type": "code",
   "execution_count": null,
   "metadata": {
    "collapsed": false
   },
   "outputs": [],
   "source": [
    "#Number of Criminal Offenses in Each Borough\n",
    "df3 = df.groupby('BORO_NM')\n",
    "print (df3['KY_CD'].describe())"
   ]
  },
  {
   "cell_type": "code",
   "execution_count": null,
   "metadata": {
    "collapsed": false
   },
   "outputs": [],
   "source": [
    "df['KY_CD']"
   ]
  },
  {
   "cell_type": "code",
   "execution_count": 42,
   "metadata": {
    "collapsed": false
   },
   "outputs": [
    {
     "data": {
      "image/png": "[encoded data removed]",
      "text/plain": [
       "<matplotlib.figure.Figure at 0x101ed0590>"
      ]
     },
     "metadata": {},
     "output_type": "display_data"
    }
   ],
   "source": [
    "df = pd.read_csv(\"brooklyn-all-crime-top10.csv\")\n",
    "#df.plot(kind='bar')\n",
    "\n",
    "from matplotlib import pyplot as plt    \n",
    "x = [0,1,2,3,4,5,6,7,8,9]\n",
    "y = df['Frequency'].values\n",
    "fig = plt.figure()\n",
    "#plt.plot(df)\n",
    "Description = [\"Petit Larceny\",\"Harrassment\",\"Assault & Related\",\"Criminal Mischief\",\n",
    "               \"Grand Larceny\",\"Dangerous Drugs\",\"Public Ord Sensb\",\"Robbery\",\"Burglary\",\"Felony Assault\"]\n",
    "\n",
    "fig.suptitle('Top 10 Crimes in Brooklyn | Jan 2006 - Dec 2015', fontsize=20)\n",
    "\n",
    "plt.xlabel('Description of Offense', fontsize= 10)\n",
    "plt.ylabel('Frequency of Offense', fontsize= 10)\n",
    "\n",
    "plt.bar(x, y)\n",
    "\n",
    "plt.xticks(x,Description, rotation=60)\n",
    "plt.grid(True)\n",
    "\n",
    "plt.show()\n",
    "\n"
   ]
  },
  {
   "cell_type": "code",
   "execution_count": 43,
   "metadata": {
    "collapsed": false
   },
   "outputs": [
    {
     "data": {
      "image/png": "[encoded data removed]",
      "text/plain": [
       "<matplotlib.figure.Figure at 0x10aec7590>"
      ]
     },
     "metadata": {},
     "output_type": "display_data"
    }
   ],
   "source": [
    "df = pd.read_csv(\"brooklyn-all-crime.csv\", names = [\"offense\",\"frq\"])\n",
    "#df.plot(kind='bar')\n",
    "\n",
    "from matplotlib import pyplot as plt    \n",
    "x = [0,1,2,3,4,5,6,7,8,9]\n",
    "y = df['frq'].nsmallest(10).values\n",
    "fig = plt.figure()\n",
    "#plt.plot(df)\n",
    "Description = reversed([\"Homicide-Negligent-Vehicle\",\"Disruption of Religious Service\",\"Unlawful Possession of Weapon on School\",\n",
    "               \"Intoxicated/Impaired Driving\",\"Homicide-Negligent-Unclassified\",\"NYC Health Code Violation\",\n",
    "               \"NYC Health Code Violation - Other\",\"Other Traffic Infraction\",\"Loitering\",\"Administrative Codes\"])\n",
    "\n",
    "fig.suptitle('Least Occurring 10 Crimes in Brooklyn | Jan 2006 - Dec 2015', fontsize=20)\n",
    "\n",
    "plt.xlabel('Description of Offense', fontsize= 10)\n",
    "plt.ylabel('Frequency of Offense', fontsize= 10)\n",
    "\n",
    "plt.bar(x, y)\n",
    "\n",
    "plt.xticks(x,Description, rotation=90)\n",
    "plt.grid(True)\n",
    "\n",
    "plt.show()\n",
    "\n"
   ]
  },
  {
   "cell_type": "code",
   "execution_count": 45,
   "metadata": {
    "collapsed": false
   },
   "outputs": [
    {
     "name": "stderr",
     "output_type": "stream",
     "text": [
      "/Users/syedalishehryar/anaconda/lib/python2.7/site-packages/ipykernel/__main__.py:3: FutureWarning: sort(columns=....) is deprecated, use sort_values(by=.....)\n",
      "  app.launch_new_instance()\n"
     ]
    },
    {
     "data": {
      "image/png": "[encoded data removed]",
      "text/plain": [
       "<matplotlib.figure.Figure at 0x10ae85190>"
      ]
     },
     "metadata": {},
     "output_type": "display_data"
    },
    {
     "data": {
      "image/png": "[encoded data removed]",
      "text/plain": [
       "<matplotlib.figure.Figure at 0x10ac49c10>"
      ]
     },
     "metadata": {},
     "output_type": "display_data"
    }
   ],
   "source": [
    "df = pd.read_csv(\"bronx-all-crime.csv\", names = [\"offense\",\"frq\"])\n",
    "#df.plot(kind='bar')\n",
    "df = df.sort('frq',ascending = False)\n",
    "#Plotting Top 10 for Bronx\n",
    "\n",
    "from matplotlib import pyplot as plt    \n",
    "x = [0,1,2,3,4,5,6,7,8,9]\n",
    "y = df['frq'].head(10).values\n",
    "fig = plt.figure()\n",
    "\n",
    "Description = [\"Petit Larceny\",\"Harassment\",\"Assault & Related\",\n",
    "               \"Dangerous Drugs\",\"Criminal Mischief & Related\",\"Ofns against Public Ord Sensblty\",\n",
    "               \"Grand Larceny\",\"Felony Assault\",\"Robbery\",\"Burglary\"]\n",
    "\n",
    "fig.suptitle('Top 10 Crimes in Bronx | Jan 2006 - Dec 2015', fontsize=20)\n",
    "\n",
    "plt.xlabel('Description of Offense', fontsize= 10)\n",
    "plt.ylabel('Frequency of Offense', fontsize= 10)\n",
    "\n",
    "plt.bar(x, y)\n",
    "\n",
    "plt.xticks(x,Description, rotation=90)\n",
    "plt.grid(True)\n",
    "\n",
    "plt.show()\n",
    "\n",
    "#Plotting Least 10 for Bronx\n",
    "x = [0,1,2,3,4,5,6,7,8,9]\n",
    "y = df['frq'].tail(10).values\n",
    "fig = plt.figure()\n",
    "\n",
    "Description = [\"Homicide-Negligent-Unclassf\",\"NYC Health Code\",\"Disruption of Religious Service\",\"Loitering/Deviate Sex\",\n",
    "               \"Loitering\",\"Fortune Telling\",\"Ofns against marriage unclassf\",\n",
    "               \"NYC Health Code - other\",\"Administrative Codes\",\"Other Traffic Infraction\"]\n",
    "\n",
    "fig.suptitle('Least 10 Crimes in Bronx | Jan 2006 - Dec 2015', fontsize=20)\n",
    "\n",
    "plt.xlabel('Description of Offense', fontsize= 10)\n",
    "plt.ylabel('Frequency of Offense', fontsize= 10)\n",
    "\n",
    "plt.bar(x, y)\n",
    "\n",
    "plt.xticks(x,Description, rotation=90)\n",
    "plt.grid(True)\n",
    "\n",
    "plt.show()\n",
    "\n"
   ]
  },
  {
   "cell_type": "code",
   "execution_count": 46,
   "metadata": {
    "collapsed": false
   },
   "outputs": [
    {
     "data": {
      "text/html": [
       "<div>\n",
       "<table border=\"1\" class=\"dataframe\">\n",
       "  <thead>\n",
       "    <tr style=\"text-align: right;\">\n",
       "      <th></th>\n",
       "      <th>offense</th>\n",
       "      <th>frq</th>\n",
       "    </tr>\n",
       "  </thead>\n",
       "  <tbody>\n",
       "    <tr>\n",
       "      <th>63</th>\n",
       "      <td>366</td>\n",
       "      <td>7</td>\n",
       "    </tr>\n",
       "    <tr>\n",
       "      <th>62</th>\n",
       "      <td>103</td>\n",
       "      <td>7</td>\n",
       "    </tr>\n",
       "    <tr>\n",
       "      <th>64</th>\n",
       "      <td>349</td>\n",
       "      <td>4</td>\n",
       "    </tr>\n",
       "    <tr>\n",
       "      <th>65</th>\n",
       "      <td>460</td>\n",
       "      <td>3</td>\n",
       "    </tr>\n",
       "    <tr>\n",
       "      <th>66</th>\n",
       "      <td>672</td>\n",
       "      <td>2</td>\n",
       "    </tr>\n",
       "    <tr>\n",
       "      <th>67</th>\n",
       "      <td>357</td>\n",
       "      <td>1</td>\n",
       "    </tr>\n",
       "    <tr>\n",
       "      <th>68</th>\n",
       "      <td>362</td>\n",
       "      <td>1</td>\n",
       "    </tr>\n",
       "    <tr>\n",
       "      <th>69</th>\n",
       "      <td>676</td>\n",
       "      <td>1</td>\n",
       "    </tr>\n",
       "    <tr>\n",
       "      <th>70</th>\n",
       "      <td>685</td>\n",
       "      <td>1</td>\n",
       "    </tr>\n",
       "    <tr>\n",
       "      <th>71</th>\n",
       "      <td>881</td>\n",
       "      <td>1</td>\n",
       "    </tr>\n",
       "  </tbody>\n",
       "</table>\n",
       "</div>"
      ],
      "text/plain": [
       "    offense  frq\n",
       "63      366    7\n",
       "62      103    7\n",
       "64      349    4\n",
       "65      460    3\n",
       "66      672    2\n",
       "67      357    1\n",
       "68      362    1\n",
       "69      676    1\n",
       "70      685    1\n",
       "71      881    1"
      ]
     },
     "execution_count": 46,
     "metadata": {},
     "output_type": "execute_result"
    }
   ],
   "source": [
    "df.tail(10)"
   ]
  },
  {
   "cell_type": "code",
   "execution_count": 48,
   "metadata": {
    "collapsed": false
   },
   "outputs": [
    {
     "name": "stderr",
     "output_type": "stream",
     "text": [
      "/Users/syedalishehryar/anaconda/lib/python2.7/site-packages/ipykernel/__main__.py:7: FutureWarning: sort(columns=....) is deprecated, use sort_values(by=.....)\n"
     ]
    },
    {
     "data": {
      "image/png": "[encoded data removed]",
      "text/plain": [
       "<matplotlib.figure.Figure at 0x10be9f610>"
      ]
     },
     "metadata": {},
     "output_type": "display_data"
    },
    {
     "data": {
      "image/png": "[encoded data removed]",
      "text/plain": [
       "<matplotlib.figure.Figure at 0x10b7e82d0>"
      ]
     },
     "metadata": {},
     "output_type": "display_data"
    }
   ],
   "source": [
    "import pandas as pd\n",
    "import numpy as np\n",
    "from matplotlib import pyplot as plt  \n",
    "#Manhattan Top and least 10 crimes for 10 years\n",
    "df_queens = pd.read_csv(\"queens-all-crime.csv\", names = [\"offense\",\"frq\"])\n",
    "#df.plot(kind='bar')\n",
    "df_queens = df_queens.sort('frq',ascending = False)\n",
    "#Plotting Top 10 for Queens\n",
    "\n",
    "  \n",
    "x = [0,1,2,3,4,5,6,7,8,9]\n",
    "y = df_queens['frq'].head(10).values\n",
    "#print y\n",
    "fig = plt.figure()\n",
    "\n",
    "Description = [\"Petit Larceny\",\"Harrassment\",\"Assault & Related\",\n",
    "               \"Criminal Mischief & Related\",\"Grand Larceny\",\n",
    "               \"Ofns agains Publ Ord Sensblty\",\"Burglary\",\"Robbery\",\"Felony Assault\",\"Grand Larceny of Motor Vehicle\"]\n",
    "\n",
    "fig.suptitle('Top 10 Crimes in Queens | Jan 2006 - Dec 2015', fontsize=20)\n",
    "\n",
    "plt.xlabel('Description of Offense', fontsize= 10)\n",
    "plt.ylabel('Frequency of Offense', fontsize= 10)\n",
    "\n",
    "plt.bar(x, y)\n",
    "\n",
    "plt.xticks(x,Description, rotation=90)\n",
    "plt.grid(True)\n",
    "\n",
    "plt.show()\n",
    "\n",
    "#Plotting Least 10 for Queens\n",
    "x = [0,1,2,3,4,5,6,7,8,9]\n",
    "y = df_queens['frq'].tail(10).values\n",
    "fig = plt.figure()\n",
    "\n",
    "Description = [\"Loitering/Deviate Sex\",\"Administrative Codes\",\"Gambling\",\n",
    "               \"Loitering\",\n",
    "               \"Other Traffic Infraction\",\"New York City Health Code (366) \",\n",
    "               \"Homicide-Negligent-Unclassified\",\"New York City Health Code (677)\",\n",
    "               \"Abortion\",\"Fortune Telling\",\"Under the Influence of Drugs\"]\n",
    "\n",
    "fig.suptitle('Least 10 Crimes in Queens | Jan 2006 - Dec 2015', fontsize=20)\n",
    "\n",
    "plt.xlabel('Description of Offense', fontsize= 10)\n",
    "plt.ylabel('Frequency of Offense', fontsize= 10)\n",
    "\n",
    "plt.bar(x, y)\n",
    "\n",
    "plt.xticks(x,Description, rotation=90)\n",
    "plt.grid(True)\n",
    "\n",
    "plt.show()"
   ]
  },
  {
   "cell_type": "code",
   "execution_count": 49,
   "metadata": {
    "collapsed": false
   },
   "outputs": [
    {
     "name": "stderr",
     "output_type": "stream",
     "text": [
      "/Users/syedalishehryar/anaconda/lib/python2.7/site-packages/ipykernel/__main__.py:7: FutureWarning: sort(columns=....) is deprecated, use sort_values(by=.....)\n"
     ]
    },
    {
     "data": {
      "image/png": "[encoded data removed]",
      "text/plain": [
       "<matplotlib.figure.Figure at 0x10bedd910>"
      ]
     },
     "metadata": {},
     "output_type": "display_data"
    },
    {
     "data": {
      "image/png": "[encoded data removed]",
      "text/plain": [
       "<matplotlib.figure.Figure at 0x10c3dcb90>"
      ]
     },
     "metadata": {},
     "output_type": "display_data"
    }
   ],
   "source": [
    "import pandas as pd\n",
    "import numpy as np\n",
    "from matplotlib import pyplot as plt  \n",
    "#Staten Island Top and least 10 crimes for 10 years\n",
    "df_staten = pd.read_csv(\"staten-all-crime.csv\", names = [\"offense\",\"frq\"])\n",
    "#df.plot(kind='bar')\n",
    "df_staten = df_staten.sort('frq',ascending = False)\n",
    "#Plotting Top 10 for Staten Island\n",
    "\n",
    "  \n",
    "x = [0,1,2,3,4,5,6,7,8,9]\n",
    "y = df_staten['frq'].head(10).values\n",
    "\n",
    "fig = plt.figure()\n",
    "\n",
    "Description = [\"Harrassment\",\"Petit Larceny\",\"Criminal Mischief & Related\",\n",
    "               \"Assault & Related\",\"Offense Against Public Order Sensibility\",\n",
    "               \"Grand Larceny\",\"Dangerous Drugs\",\"Offense Against Public Administration\",\n",
    "               \"Burglary\",\"Intoxicated & Impaired Driving\"]\n",
    "\n",
    "fig.suptitle('Top 10 Crimes in Staten Island | Jan 2006 - Dec 2015', fontsize=20)\n",
    "\n",
    "plt.xlabel('Description of Offense', fontsize= 10)\n",
    "plt.ylabel('Frequency of Offense', fontsize= 10)\n",
    "\n",
    "plt.bar(x, y)\n",
    "\n",
    "plt.xticks(x,Description, rotation=90)\n",
    "plt.grid(True)\n",
    "\n",
    "plt.show()\n",
    "\n",
    "#Plotting Least 10 for Staten Island\n",
    "x = [0,1,2,3,4,5,6,7,8,9]\n",
    "y = df_staten['frq'].tail(10).values\n",
    "fig = plt.figure()\n",
    "\n",
    "Description = [\"Prostitution & Related Offenses (356)\",\"Anticipatory Offenses\",\"Homicide-Negligent-Unclassified\",\n",
    "               \"Loitering/Gambling\",\n",
    "               \"Prostitution (115)\",\"Abortion\",\n",
    "               \"Prostituion (234)\",\"Unlawful Possession of Weapon on School\",\n",
    "               \"Under the Influence of Drugs\",\"NYC Health Code (676)\"]\n",
    "\n",
    "fig.suptitle('Least 10 Crimes in Staten Island | Jan 2006 - Dec 2015', fontsize=20)\n",
    "\n",
    "plt.xlabel('Description of Offense', fontsize= 10)\n",
    "plt.ylabel('Frequency of Offense', fontsize= 10)\n",
    "\n",
    "plt.bar(x, y)\n",
    "\n",
    "plt.xticks(x,Description, rotation=90)\n",
    "plt.grid(True)\n",
    "\n",
    "plt.show()"
   ]
  },
  {
   "cell_type": "code",
   "execution_count": null,
   "metadata": {
    "collapsed": true
   },
   "outputs": [],
   "source": []
  }
 ],
 "metadata": {
  "kernelspec": {
   "display_name": "Python 2",
   "language": "python",
   "name": "python2"
  },
  "language_info": {
   "codemirror_mode": {
    "name": "ipython",
    "version": 2
   },
   "file_extension": ".py",
   "mimetype": "text/x-python",
   "name": "python",
   "nbconvert_exporter": "python",
   "pygments_lexer": "ipython2",
   "version": "2.7.13"
  }
 },
 "nbformat": 4,
 "nbformat_minor": 2
}
